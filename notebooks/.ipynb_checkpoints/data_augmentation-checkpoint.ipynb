{
 "cells": [
  {
   "cell_type": "code",
   "execution_count": 1,
   "metadata": {},
   "outputs": [
    {
     "name": "stderr",
     "output_type": "stream",
     "text": [
      "Using TensorFlow backend.\n"
     ]
    }
   ],
   "source": [
    "import cv2\n",
    "import glob\n",
    "import numpy as np\n",
    "from scipy import ndimage\n",
    "import random\n",
    "from keras.preprocessing import image\n",
    "\n",
    "import warnings\n",
    "warnings.filterwarnings('ignore')"
   ]
  },
  {
   "cell_type": "code",
   "execution_count": 2,
   "metadata": {},
   "outputs": [],
   "source": [
    "TRAIN_IMAGES = glob.glob('../data/x_train/*.png')\n",
    "CLEAN_IMAGES = glob.glob('../data/y_train/*.png')\n",
    "\n",
    "def load_image(path):\n",
    "    image_list = np.zeros((len(path), 258, 540, 1))\n",
    "    for i, fig in enumerate(path):\n",
    "        img = image.load_img(fig, color_mode='grayscale', target_size=(258, 540))\n",
    "        x = image.img_to_array(img).astype('float32')\n",
    "        #x = x / 255.0\n",
    "        image_list[i] = x\n",
    "    \n",
    "    return image_list\n",
    "\n",
    "x_train = load_image(TRAIN_IMAGES)[:,:,:,0]\n",
    "y_train = load_image(CLEAN_IMAGES)[:,:,:,0]"
   ]
  },
  {
   "cell_type": "code",
   "execution_count": 3,
   "metadata": {},
   "outputs": [
    {
     "name": "stdout",
     "output_type": "stream",
     "text": [
      "mkdir: ../augmented_data: File exists\r\n"
     ]
    }
   ],
   "source": [
    "!mkdir ../augmented_data"
   ]
  },
  {
   "cell_type": "code",
   "execution_count": 4,
   "metadata": {},
   "outputs": [],
   "source": [
    "!cp -r ../data/x_train ../augmented_data/x_train"
   ]
  },
  {
   "cell_type": "code",
   "execution_count": 5,
   "metadata": {},
   "outputs": [],
   "source": [
    "!cp -r ../data/y_train ../augmented_data/y_train"
   ]
  },
  {
   "cell_type": "code",
   "execution_count": 6,
   "metadata": {},
   "outputs": [],
   "source": [
    "for i,(x,y) in enumerate(zip(x_train,y_train)):\n",
    "    # Random cropping\n",
    "    scale = random.random()\n",
    "    scale = min(0.9, scale+0.3)\n",
    "    cropped_x = x[:int(258*scale),:int(500*scale)]\n",
    "    cropped_y = y[:int(258*scale),:int(500*scale)]\n",
    "    cv2.imwrite('../augmented_data/x_train/cropped_'+str(i)+'.png', cropped_x)\n",
    "    cv2.imwrite('../augmented_data/y_train/cropped_'+str(i)+'.png', cropped_y)\n",
    "    \n",
    "    # Rotations\n",
    "    rotated_x = ndimage.rotate(x, 180)\n",
    "    rotated_y = ndimage.rotate(y, 180)\n",
    "    cv2.imwrite('../augmented_data/x_train/rotated_'+str(i)+'.png', rotated_x)\n",
    "    cv2.imwrite('../augmented_data/y_train/rotated_'+str(i)+'.png', rotated_y)\n",
    "    \n",
    "    # Flips\n",
    "    flip1_x = np.fliplr(x)\n",
    "    flip1_y = np.fliplr(y)\n",
    "    cv2.imwrite('../augmented_data/x_train/flip1_'+str(i)+'.png', flip1_x)\n",
    "    cv2.imwrite('../augmented_data/y_train/flip1_'+str(i)+'.png', flip1_y)\n",
    "    \n",
    "    flip2_x = cv2.flip(x,0)\n",
    "    flip2_y = cv2.flip(y,0)\n",
    "    cv2.imwrite('../augmented_data/x_train/flip2_'+str(i)+'.png', flip2_x)\n",
    "    cv2.imwrite('../augmented_data/y_train/flip2_'+str(i)+'.png', flip2_y)"
   ]
  },
  {
   "cell_type": "code",
   "execution_count": null,
   "metadata": {},
   "outputs": [],
   "source": []
  }
 ],
 "metadata": {
  "kernelspec": {
   "display_name": "Python 3",
   "language": "python",
   "name": "python3"
  },
  "language_info": {
   "codemirror_mode": {
    "name": "ipython",
    "version": 3
   },
   "file_extension": ".py",
   "mimetype": "text/x-python",
   "name": "python",
   "nbconvert_exporter": "python",
   "pygments_lexer": "ipython3",
   "version": "3.6.8"
  }
 },
 "nbformat": 4,
 "nbformat_minor": 2
}
